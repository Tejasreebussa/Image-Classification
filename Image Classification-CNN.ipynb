{
 "cells": [
  {
   "cell_type": "code",
   "execution_count": null,
   "metadata": {},
   "outputs": [],
   "source": [
    "import os\n",
    "import numpy as np\n",
    "from keras.preprocessing import image\n",
    "import matplotlib.pyplot as plt\n",
    "%matplotlib inline\n",
    "\n",
    "def load_images_from_path(path, label):\n",
    "    images = []\n",
    "    column_labels = []\n",
    "\n",
    "    for file in os.listdir(path):\n",
    "        img = image.load_img(os.path.join(path, file), target_size=(224, 224, 3))\n",
    "        images.append(image.img_to_array(img))\n",
    "        column_labels.append((label))\n",
    "        \n",
    "    return images, column_labels\n",
    "def show_images(images):\n",
    "    fig, axes = plt.subplots(1, 8, figsize=(20, 20), subplot_kw={'xticks': [], 'yticks': []})\n",
    "\n",
    "    for i, ax in enumerate(axes.flat):\n",
    "        ax.imshow(images[i] / 255)\n",
    "\n",
    "x_train = []\n",
    "y_train = []\n",
    "x_test = []\n",
    "y_test = []"
   ]
  },
  {
   "cell_type": "markdown",
   "metadata": {},
   "source": [
    "Arctic-fox training images - Initial Code to show few artic fox images"
   ]
  },
  {
   "cell_type": "code",
   "execution_count": null,
   "metadata": {},
   "outputs": [],
   "source": [
    "images, column_labels = load_images_from_path('Data/Wildlife/train/arctic_fox', 0)\n",
    "show_images(images)\n",
    "    \n",
    "x_train += images\n",
    "y_train += column_labels"
   ]
  },
  {
   "cell_type": "markdown",
   "metadata": {},
   "source": [
    "Polar Bear training images - Initial Code to show few polar bear images"
   ]
  },
  {
   "cell_type": "code",
   "execution_count": null,
   "metadata": {},
   "outputs": [],
   "source": [
    "images, column_labels = load_images_from_path('Data/Wildlife/train/polar_bear', 1)\n",
    "show_images(images)\n",
    "    \n",
    "x_train += images\n",
    "y_train += column_labels"
   ]
  },
  {
   "cell_type": "markdown",
   "metadata": {},
   "source": [
    "Walrus training images - Initial Code to show few walrus images"
   ]
  },
  {
   "cell_type": "code",
   "execution_count": null,
   "metadata": {},
   "outputs": [],
   "source": [
    "images, column_labels = load_images_from_path('Data/Wildlife/train/walrus', 2)\n",
    "show_images(images)\n",
    "\n",
    "x_train += images\n",
    "y_train += column_labels"
   ]
  },
  {
   "cell_type": "markdown",
   "metadata": {},
   "source": [
    "Arctic-fox test images - Initial Code to show few artic fox images"
   ]
  },
  {
   "cell_type": "code",
   "execution_count": null,
   "metadata": {},
   "outputs": [],
   "source": [
    "images, column_labels = load_images_from_path('Data/Wildlife/test/arctic_fox', 0)\n",
    "show_images(images)\n",
    "    \n",
    "x_test += images\n",
    "y_test += column_labels"
   ]
  },
  {
   "cell_type": "markdown",
   "metadata": {},
   "source": [
    "Polar Bear test images - Initial Code to show few polar bear images"
   ]
  },
  {
   "cell_type": "code",
   "execution_count": null,
   "metadata": {},
   "outputs": [],
   "source": [
    "images, column_labels = load_images_from_path('Data/Wildlife/test/polar_bear', 1)\n",
    "show_images(images)\n",
    "    \n",
    "x_test += images\n",
    "y_test += column_labels"
   ]
  },
  {
   "cell_type": "markdown",
   "metadata": {},
   "source": [
    "Walrus test images - Initial Code to show few walrus images"
   ]
  },
  {
   "cell_type": "code",
   "execution_count": null,
   "metadata": {},
   "outputs": [],
   "source": [
    "images, column_labels = load_images_from_path('Data/Wildlife/test/walrus', 2)\n",
    "show_images(images)\n",
    "    \n",
    "x_test += images\n",
    "y_test += column_labels"
   ]
  },
  {
   "cell_type": "markdown",
   "metadata": {},
   "source": [
    "Preprocess the training and testing images, and use Keras's [`to_categorical`](https://keras.io/api/utils/python_utils/#to_categorical-function) function to one-hot-encode the training and testing labels."
   ]
  },
  {
   "cell_type": "code",
   "execution_count": null,
   "metadata": {},
   "outputs": [],
   "source": [
    "from tensorflow.keras.utils import to_categorical\n",
    "\n",
    "x_train = np.array(x_train) / 255\n",
    "x_test = np.array(x_test) / 255\n",
    "\n",
    "y_train_encoded = to_categorical(y_train)\n",
    "y_test_encoded = to_categorical(y_test)"
   ]
  }
 ],
 "metadata": {
  "kernelspec": {
   "display_name": "Python 3",
   "language": "python",
   "name": "python3"
  },
  "language_info": {
   "codemirror_mode": {
    "name": "ipython",
    "version": 3
   },
   "file_extension": ".py",
   "mimetype": "text/x-python",
   "name": "python",
   "nbconvert_exporter": "python",
   "pygments_lexer": "ipython3",
   "version": "3.8.5"
  }
 },
 "nbformat": 4,
 "nbformat_minor": 2
}
