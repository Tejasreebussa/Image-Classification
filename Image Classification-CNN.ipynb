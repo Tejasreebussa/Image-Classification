{
 "cells": [
  {
   "cell_type": "code",
   "execution_count": null,
   "metadata": {},
   "outputs": [],
   "source": [
    "import os\n",
    "import numpy as np\n",
    "from keras.preprocessing import image\n",
    "import matplotlib.pyplot as plt\n",
    "%matplotlib inline\n",
    "\n",
    "def load_artic_fox_from_path(path, label):\n",
    "    artic_fox = []\n",
    "    column_labels = []\n",
    "\n",
    "    for file in os.listdir(path):\n",
    "        img = image.load_img(os.path.join(path, file), target_size=(224, 224, 3))\n",
    "        artic_fox.append(image.img_to_array(img))\n",
    "        column_labels.append((label))\n",
    "        \n",
    "    return artic_fox, column_labels\n",
    "def show_artic_fox(artic_fox):\n",
    "    fig, axes = plt.subplots(1, 8, figsize=(20, 20), subplot_kw={'xticks': [], 'yticks': []})\n",
    "\n",
    "    for i, ax in enumerate(axes.flat):\n",
    "        ax.imshow(artic_fox[i] / 255)\n",
    "\n",
    "x_train = []\n",
    "y_train = []\n",
    "x_test = []\n",
    "y_test = []"
   ]
  },
  {
   "cell_type": "markdown",
   "metadata": {},
   "source": [
    "Arctic-fox training artic_fox - Initial Code to show few artic_fox"
   ]
  },
  {
   "cell_type": "code",
   "execution_count": null,
   "metadata": {},
   "outputs": [],
   "source": [
    "artic_fox, column_labels = load_artic_fox_from_path('Data/Wildlife/train/arctic_fox', 0)\n",
    "show_artic_fox(artic_fox)\n",
    "    \n",
    "x_train += artic_fox\n",
    "y_train += column_labels"
   ]
  }
 ],
 "metadata": {
  "kernelspec": {
   "display_name": "Python 3",
   "language": "python",
   "name": "python3"
  },
  "language_info": {
   "codemirror_mode": {
    "name": "ipython",
    "version": 3
   },
   "file_extension": ".py",
   "mimetype": "text/x-python",
   "name": "python",
   "nbconvert_exporter": "python",
   "pygments_lexer": "ipython3",
   "version": "3.8.5"
  }
 },
 "nbformat": 4,
 "nbformat_minor": 2
}
